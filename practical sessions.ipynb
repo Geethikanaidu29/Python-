{
 "cells": [
  {
   "cell_type": "markdown",
   "id": "8819bf37",
   "metadata": {},
   "source": [
    "variable naming conventions"
   ]
  },
  {
   "cell_type": "code",
   "execution_count": 11,
   "id": "e96d84b9",
   "metadata": {},
   "outputs": [
    {
     "name": "stdout",
     "output_type": "stream",
     "text": [
      "1 3 4 5\n"
     ]
    }
   ],
   "source": [
    "#valid\n",
    "# must start with a letter or underscore\n",
    "# can contain letters,numbers and undescores\n",
    "# case-sensitive\n",
    "x=1\n",
    "x_1=3\n",
    "_x_2=4\n",
    "X_3=5\n",
    "print(x,x_1,_x_2,X_3)\n",
    "\n",
    "#invalid\n",
    "# starting with a number(1varaiable)\n",
    "# using special characters(data-set)\n",
    "# using reserved keywords(def = 10)\n",
    "# overwriting built-in functions(print=\"hello\")\n",
    "# cannot use python keywords or built-in function names\n",
    "# x_k=5\n",
    "# 2_x=6\n",
    "# @x_8=9\n"
   ]
  },
  {
   "cell_type": "markdown",
   "id": "8a9d64be",
   "metadata": {},
   "source": []
  }
 ],
 "metadata": {
  "kernelspec": {
   "display_name": "Python 3 (ipykernel)",
   "language": "python",
   "name": "python3"
  },
  "language_info": {
   "codemirror_mode": {
    "name": "ipython",
    "version": 3
   },
   "file_extension": ".py",
   "mimetype": "text/x-python",
   "name": "python",
   "nbconvert_exporter": "python",
   "pygments_lexer": "ipython3",
   "version": "3.11.5"
  }
 },
 "nbformat": 4,
 "nbformat_minor": 5
}
