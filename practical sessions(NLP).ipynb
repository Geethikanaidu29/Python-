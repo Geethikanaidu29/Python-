{
 "cells": [
  {
   "cell_type": "markdown",
   "id": "8819bf37",
   "metadata": {},
   "source": [
    "variable naming conventions"
   ]
  },
  {
   "cell_type": "markdown",
   "id": "8b2188e3-0fed-441c-93ca-437dc9140ca2",
   "metadata": {},
   "source": [
    "#### Rules for variables"
   ]
  },
  {
   "cell_type": "markdown",
   "id": "ec1b994a-84b3-4909-bf00-ebbb3880aee2",
   "metadata": {},
   "source": [
    "1. must start with letter or underscroe(_)\n",
    "2. Can contain letters ,underscores , numbers\n",
    "3. case-sensitive\n",
    "4. ccannot use python keywords"
   ]
  },
  {
   "cell_type": "code",
   "execution_count": 11,
   "id": "e96d84b9",
   "metadata": {},
   "outputs": [
    {
     "name": "stdout",
     "output_type": "stream",
     "text": [
      "1 3 4 5\n"
     ]
    }
   ],
   "source": [
    "#valid\n",
    "# must start with a letter or underscore\n",
    "# can contain letters,numbers and undescores\n",
    "# case-sensitive\n",
    "x=1\n",
    "x_1=3\n",
    "_x_2=4\n",
    "X_3=5\n",
    "print(x,x_1,_x_2,X_3)\n",
    "\n",
    "#invalid\n",
    "# starting with a number(1varaiable)\n",
    "# using special characters(data-set)\n",
    "# using reserved keywords(def = 10)\n",
    "# overwriting built-in functions(print=\"hello\")\n",
    "# cannot use python keywords or built-in function names\n",
    "# x_k=5\n",
    "# 2_x=6\n",
    "# @x_8=9\n"
   ]
  },
  {
   "cell_type": "markdown",
   "id": "2b092793-dd42-4576-9513-c6319e0baeda",
   "metadata": {},
   "source": [
    "#### What are python's variable naming conventions?"
   ]
  },
  {
   "cell_type": "code",
   "execution_count": 1,
   "id": "ba5be378-dd95-4529-8f46-8965192392c0",
   "metadata": {},
   "outputs": [
    {
     "name": "stdout",
     "output_type": "stream",
     "text": [
      "2 5 5 6\n"
     ]
    }
   ],
   "source": [
    "#valid\n",
    "num = 2\n",
    "num_2 = 5\n",
    "_num_3 =6\n",
    "Num_4 = 5\n",
    "\n",
    "#invalid\n",
    "# num k = 5\n",
    "# 2_num = 6\n",
    "# @num_5 = 5\n",
    "# data-set = 2 \n",
    "\n"
   ]
  },
  {
   "cell_type": "markdown",
   "id": "2d53e835-7c65-4982-a32b-ef7030dbe886",
   "metadata": {},
   "source": [
    "#### What happens when you assign a value to a varible that has the same name as a built-in function"
   ]
  },
  {
   "cell_type": "code",
   "execution_count": 2,
   "id": "0fdc25da-675c-46c5-bd7b-d3a23b5f6e1d",
   "metadata": {},
   "outputs": [
    {
     "ename": "SyntaxError",
     "evalue": "invalid syntax (1823403004.py, line 2)",
     "output_type": "error",
     "traceback": [
      "\u001b[1;36m  Cell \u001b[1;32mIn[2], line 2\u001b[1;36m\u001b[0m\n\u001b[1;33m    if = 5\u001b[0m\n\u001b[1;37m       ^\u001b[0m\n\u001b[1;31mSyntaxError\u001b[0m\u001b[1;31m:\u001b[0m invalid syntax\n"
     ]
    }
   ],
   "source": [
    "print(num,num_2,Num_4,_num_3)# Ans: Error\n",
    "if = 5\n",
    "for = 6\n",
    "in = 3# Yes\n",
    "a = 4\n",
    "print(a)\n",
    "\n",
    "a = 4.2\n",
    "print(a)\n",
    "\n",
    "a = \"APPLE\"\n",
    "print(a)\n",
    "\n",
    "a = True\n",
    "print(a)"
   ]
  },
  {
   "cell_type": "markdown",
   "id": "b2eee824-4271-4768-b831-df3061b9c75e",
   "metadata": {},
   "source": [
    "#### Can variable in python hold different types of values at different times ? Show an example\n"
   ]
  },
  {
   "cell_type": "code",
   "execution_count": 3,
   "id": "3505b53e-fd34-4c7a-af28-6412edb76b04",
   "metadata": {},
   "outputs": [
    {
     "name": "stdout",
     "output_type": "stream",
     "text": [
      "4\n",
      "4.2\n",
      "APPLE\n",
      "True\n"
     ]
    }
   ],
   "source": [
    "# Yes\n",
    "a = 4\n",
    "print(a)\n",
    "\n",
    "a = 4.2\n",
    "print(a)\n",
    "\n",
    "a = \"APPLE\"\n",
    "print(a)\n",
    "\n",
    "a = True\n",
    "print(a)"
   ]
  },
  {
   "cell_type": "markdown",
   "id": "80b35689-e985-4844-961a-e4cd0f697c8e",
   "metadata": {},
   "source": [
    "#### What is the difference between local and global variable\n"
   ]
  },
  {
   "cell_type": "code",
   "execution_count": 6,
   "id": "e03151fc-b5f3-4aa7-91d3-02e3e5da70eb",
   "metadata": {},
   "outputs": [
    {
     "name": "stdout",
     "output_type": "stream",
     "text": [
      "0\n",
      "5\n",
      "10\n",
      "15\n"
     ]
    }
   ],
   "source": [
    "# local variable: can be used in few part of code ,example\n",
    "\n",
    "def Examle(num):\n",
    "    a = 5*(num)\n",
    "    print(a)\n",
    "    \n",
    "# print(a) error\n",
    "\n",
    "# global variable: can be used in any part of code ,example\n",
    "\n",
    "a = 5 \n",
    "for i in range(0,4):\n",
    "    x = i*a\n",
    "    print(x)"
   ]
  },
  {
   "cell_type": "code",
   "execution_count": 7,
   "id": "dfcd6c03-5bf3-4cbc-aef8-f7c49a7696ea",
   "metadata": {},
   "outputs": [
    {
     "name": "stdin",
     "output_type": "stream",
     "text": [
      "Enter a number:  3\n"
     ]
    },
    {
     "name": "stdout",
     "output_type": "stream",
     "text": [
      "Multiplication is  6\n"
     ]
    }
   ],
   "source": [
    "my_int = int(input(\"Enter a number: \"))\n",
    "result = my_int * 2\n",
    "print(\"Multiplication is \",result)"
   ]
  },
  {
   "cell_type": "markdown",
   "id": "15d7445b-b9b5-4825-ab0a-18321331d224",
   "metadata": {},
   "source": [
    "Data types\n",
    " 1.int:\n",
    "  -Bhaviour: fixed\n",
    "  - order: prdered\n",
    "  - homogeneity: Homogenous\n",
    "  - Default value: '0'"
   ]
  },
  {
   "cell_type": "code",
   "execution_count": 1,
   "id": "9062444f-aa12-4c7e-ad0d-5bbca97b9f81",
   "metadata": {},
   "outputs": [
    {
     "name": "stdout",
     "output_type": "stream",
     "text": [
      "Original Integer: 42\n",
      "Result after multiplication: 84\n"
     ]
    }
   ],
   "source": [
    "# Demo for int\n",
    "my_int=42\n",
    "print(\"Original Integer:\" , my_int)\n",
    "#Performing arithmetic operation\n",
    "result=my_int*2\n",
    "print(\"Result after multiplication:\" , result)"
   ]
  },
  {
   "cell_type": "markdown",
   "id": "1957bfd8-3dce-477b-8c73-82c9850a1f5e",
   "metadata": {},
   "source": [
    "list:\n",
    "- Behaviour: Mutable\n",
    "-Order: ordered\n",
    "- homogenity: heterogenous\n",
    "default value : '[]'(an empty list)"
   ]
  },
  {
   "cell_type": "code",
   "execution_count": 2,
   "id": "0892e465-731e-4ae3-81a6-1b231f746006",
   "metadata": {},
   "outputs": [
    {
     "name": "stdout",
     "output_type": "stream",
     "text": [
      "Original List: [1, 'hello', 3.14, True]\n",
      "List after Appending : [1, 'hello', 3.14, True, 'world']\n",
      "List after removing: [1, 'hello', True, 'world']\n"
     ]
    }
   ],
   "source": [
    "#demo for list\n",
    "my_list=[1,'hello',3.14,True]\n",
    "print(\"Original List:\", my_list)\n",
    "#Adding an elemnt to list\n",
    "my_list.append('world')\n",
    "print(\"List after Appending :\",my_list)\n",
    "#remove an element from list\n",
    "my_list.remove(3.14)\n",
    "print(\"List after removing:\",my_list)"
   ]
  },
  {
   "cell_type": "code",
   "execution_count": 8,
   "id": "b3b9929c-e138-4093-9370-e572ffc9cf86",
   "metadata": {},
   "outputs": [
    {
     "name": "stdout",
     "output_type": "stream",
     "text": [
      "[1, 'Hello', 3.4, True]\n"
     ]
    }
   ],
   "source": [
    "list_1 = [1,\"Hello\",3.4,True]\n",
    "print(list_1)"
   ]
  },
  {
   "cell_type": "code",
   "execution_count": 12,
   "id": "00e7d556-b9cc-466b-adc6-2dbaaaadccf4",
   "metadata": {},
   "outputs": [
    {
     "data": {
      "text/plain": [
       "[1, 'Hello', 3.4, True, 'World', 'World', 'World', 'World']"
      ]
     },
     "execution_count": 12,
     "metadata": {},
     "output_type": "execute_result"
    }
   ],
   "source": [
    "list_1.append(\"World\")\n",
    "list_1\n"
   ]
  },
  {
   "cell_type": "code",
   "execution_count": 14,
   "id": "f4162f1e-f435-448a-bc02-f678c046d620",
   "metadata": {},
   "outputs": [
    {
     "data": {
      "text/plain": [
       "[1, 'Hello', True, 'World', 'World', 'World', 'World']"
      ]
     },
     "execution_count": 14,
     "metadata": {},
     "output_type": "execute_result"
    }
   ],
   "source": [
    "list_1.remove(3.4)\n",
    "list_1"
   ]
  },
  {
   "cell_type": "markdown",
   "id": "f2ecfdb8-947a-47c8-8727-a344c55f6cde",
   "metadata": {},
   "source": [
    "    tuple:\n",
    "- Behaviour: fixed#demo for tuple\n",
    "my_tuple=(1,'apple',3.14,False)\n",
    "print(\"Original Tuple:\", my_tuple)\n",
    "#Accessing elements in the tuple\n",
    "print(\"First element:\",my_tuple[0])\n",
    "print(\"Last element:\",my_tuple[3])\n",
    "\n",
    "-Order: ordered\n",
    "- homogenity: heterogenous\n",
    "default value : '()'(an empty tuple)"
   ]
  },
  {
   "cell_type": "code",
   "execution_count": 4,
   "id": "1b84b553-fb55-4275-b154-7bfeae122159",
   "metadata": {},
   "outputs": [
    {
     "name": "stdout",
     "output_type": "stream",
     "text": [
      "Original Tuple: (1, 'apple', 3.14, False)\n",
      "First element: 1\n",
      "Last element: False\n"
     ]
    }
   ],
   "source": [
    "#demo for tuple\n",
    "my_tuple=(1,'apple',3.14,False)\n",
    "print(\"Original Tuple:\", my_tuple)\n",
    "#Accessing elements in the tuple\n",
    "print(\"First element:\",my_tuple[0])\n",
    "print(\"Last element:\",my_tuple[3])\n"
   ]
  },
  {
   "cell_type": "code",
   "execution_count": 15,
   "id": "47902878-95d4-41f2-83a8-5d7ef285c198",
   "metadata": {},
   "outputs": [
    {
     "data": {
      "text/plain": [
       "(1, 'Apple', 3.14, False)"
      ]
     },
     "execution_count": 15,
     "metadata": {},
     "output_type": "execute_result"
    }
   ],
   "source": [
    "tuple_1 = (1,\"Apple\",3.14,False)\n",
    "tuple_1"
   ]
  },
  {
   "cell_type": "code",
   "execution_count": null,
   "id": "88a2b938-360c-444b-82bd-f820a16faf32",
   "metadata": {},
   "outputs": [],
   "source": []
  },
  {
   "cell_type": "markdown",
   "id": "8a9d64be",
   "metadata": {},
   "source": [
    "What is function:\n",
    "A function is a reusable block of code design to perform a specific task. It can take input (parameters )and process it\n",
    "\n",
    "How to find Built-in methods in python?\n",
    "\n",
    "print(dir(str))"
   ]
  },
  {
   "cell_type": "code",
   "execution_count": 1,
   "id": "b43744f3-03db-4692-8ae6-621bb0e9519e",
   "metadata": {},
   "outputs": [
    {
     "name": "stdout",
     "output_type": "stream",
     "text": [
      "['__add__', '__class__', '__contains__', '__delattr__', '__dir__', '__doc__', '__eq__', '__format__', '__ge__', '__getattribute__', '__getitem__', '__getnewargs__', '__getstate__', '__gt__', '__hash__', '__init__', '__init_subclass__', '__iter__', '__le__', '__len__', '__lt__', '__mod__', '__mul__', '__ne__', '__new__', '__reduce__', '__reduce_ex__', '__repr__', '__rmod__', '__rmul__', '__setattr__', '__sizeof__', '__str__', '__subclasshook__', 'capitalize', 'casefold', 'center', 'count', 'encode', 'endswith', 'expandtabs', 'find', 'format', 'format_map', 'index', 'isalnum', 'isalpha', 'isascii', 'isdecimal', 'isdigit', 'isidentifier', 'islower', 'isnumeric', 'isprintable', 'isspace', 'istitle', 'isupper', 'join', 'ljust', 'lower', 'lstrip', 'maketrans', 'partition', 'removeprefix', 'removesuffix', 'replace', 'rfind', 'rindex', 'rjust', 'rpartition', 'rsplit', 'rstrip', 'split', 'splitlines', 'startswith', 'strip', 'swapcase', 'title', 'translate', 'upper', 'zfill']\n"
     ]
    }
   ],
   "source": [
    "print(dir(str))"
   ]
  },
  {
   "cell_type": "code",
   "execution_count": 29,
   "id": "961753c0-71d7-410e-bbac-f7afc4fe7455",
   "metadata": {},
   "outputs": [
    {
     "name": "stdout",
     "output_type": "stream",
     "text": [
      "__add__ \n",
      "\n",
      "__class__ \n",
      "\n",
      "__contains__ \n",
      "\n",
      "__delattr__ \n",
      "\n",
      "__dir__ \n",
      "\n",
      "__doc__ \n",
      "\n",
      "__eq__ \n",
      "\n",
      "__format__ \n",
      "\n",
      "__ge__ \n",
      "\n",
      "__getattribute__ \n",
      "\n",
      "__getitem__ \n",
      "\n",
      "__getnewargs__ \n",
      "\n",
      "__getstate__ \n",
      "\n",
      "__gt__ \n",
      "\n",
      "__hash__ \n",
      "\n",
      "__init__ \n",
      "\n",
      "__init_subclass__ \n",
      "\n",
      "__iter__ \n",
      "\n",
      "__le__ \n",
      "\n",
      "__len__ \n",
      "\n",
      "__lt__ \n",
      "\n",
      "__mod__ \n",
      "\n",
      "__mul__ \n",
      "\n",
      "__ne__ \n",
      "\n",
      "__new__ \n",
      "\n",
      "__reduce__ \n",
      "\n",
      "__reduce_ex__ \n",
      "\n",
      "__repr__ \n",
      "\n",
      "__rmod__ \n",
      "\n",
      "__rmul__ \n",
      "\n",
      "__setattr__ \n",
      "\n",
      "__sizeof__ \n",
      "\n",
      "__str__ \n",
      "\n",
      "__subclasshook__ \n",
      "\n",
      "capitalize \n",
      "\n",
      "casefold \n",
      "\n",
      "center \n",
      "\n",
      "count \n",
      "\n",
      "encode \n",
      "\n",
      "endswith \n",
      "\n",
      "expandtabs \n",
      "\n",
      "find \n",
      "\n",
      "format \n",
      "\n",
      "format_map \n",
      "\n",
      "index \n",
      "\n",
      "isalnum \n",
      "\n",
      "isalpha \n",
      "\n",
      "isascii \n",
      "\n",
      "isdecimal \n",
      "\n",
      "isdigit \n",
      "\n",
      "isidentifier \n",
      "\n",
      "islower \n",
      "\n",
      "isnumeric \n",
      "\n",
      "isprintable \n",
      "\n",
      "isspace \n",
      "\n",
      "istitle \n",
      "\n",
      "isupper \n",
      "\n",
      "join \n",
      "\n",
      "ljust \n",
      "\n",
      "lower \n",
      "\n",
      "lstrip \n",
      "\n",
      "maketrans \n",
      "\n",
      "partition \n",
      "\n",
      "removeprefix \n",
      "\n",
      "removesuffix \n",
      "\n",
      "replace \n",
      "\n",
      "rfind \n",
      "\n",
      "rindex \n",
      "\n",
      "rjust \n",
      "\n",
      "rpartition \n",
      "\n",
      "rsplit \n",
      "\n",
      "rstrip \n",
      "\n",
      "split \n",
      "\n",
      "splitlines \n",
      "\n",
      "startswith \n",
      "\n",
      "strip \n",
      "\n",
      "swapcase \n",
      "\n",
      "title \n",
      "\n",
      "translate \n",
      "\n",
      "upper \n",
      "\n",
      "zfill \n",
      "\n"
     ]
    }
   ],
   "source": [
    "defined = dir(str)\n",
    "for i in range(len(defined)):\n",
    "    print(defined[i],\"\\n\")\n"
   ]
  },
  {
   "cell_type": "code",
   "execution_count": 2,
   "id": "14b0c021-7c73-485a-8701-4680add56e5b",
   "metadata": {},
   "outputs": [
    {
     "name": "stdout",
     "output_type": "stream",
     "text": [
      "Hello World\n"
     ]
    }
   ],
   "source": [
    "a=\"Hello world\"\n",
    "b=a.title()\n",
    "print(b)"
   ]
  },
  {
   "cell_type": "code",
   "execution_count": 4,
   "id": "e729da83-d600-49c1-a983-1eae02d2a593",
   "metadata": {},
   "outputs": [
    {
     "name": "stdout",
     "output_type": "stream",
     "text": [
      "HELLO WORLD\n"
     ]
    }
   ],
   "source": [
    "a=\"hello world\"\n",
    "b=a.upper()\n",
    "print(b)"
   ]
  },
  {
   "cell_type": "code",
   "execution_count": 3,
   "id": "ff63f034-f4ce-4225-a0d8-34fdcbd3786c",
   "metadata": {},
   "outputs": [
    {
     "name": "stdout",
     "output_type": "stream",
     "text": [
      "hello\n"
     ]
    }
   ],
   "source": [
    "a=\"hello\"\n",
    "b=a.lower()\n",
    "print(b)"
   ]
  },
  {
   "cell_type": "code",
   "execution_count": 5,
   "id": "28afcf1c-dc6a-4dd1-9b3b-e4feba3e6742",
   "metadata": {},
   "outputs": [
    {
     "data": {
      "text/plain": [
       "8"
      ]
     },
     "execution_count": 5,
     "metadata": {},
     "output_type": "execute_result"
    }
   ],
   "source": [
    "a=\"geethika\"\n",
    "len(a)"
   ]
  },
  {
   "cell_type": "code",
   "execution_count": 10,
   "id": "48a1750d-edef-4e56-af88-c51ad93667d4",
   "metadata": {},
   "outputs": [
    {
     "name": "stdout",
     "output_type": "stream",
     "text": [
      "hi\n"
     ]
    }
   ],
   "source": [
    "a=\"hello\"\n",
    "b=a.replace(\"hello\",\"hi\")\n",
    "print(b)"
   ]
  },
  {
   "cell_type": "code",
   "execution_count": 11,
   "id": "46b27709-bd79-4288-8e92-0e0f31f582e0",
   "metadata": {},
   "outputs": [
    {
     "name": "stdout",
     "output_type": "stream",
     "text": [
      "False\n"
     ]
    }
   ],
   "source": [
    "a=\"1234asa\"\n",
    "b=a.isdigit()\n",
    "print(b)"
   ]
  },
  {
   "cell_type": "code",
   "execution_count": 12,
   "id": "06b3c88c-d58c-4650-912a-bafa9839092f",
   "metadata": {},
   "outputs": [
    {
     "name": "stdout",
     "output_type": "stream",
     "text": [
      "[0, 1, 2, 3, 4, 5, 6, 7]\n"
     ]
    }
   ],
   "source": [
    "a=range(8)\n",
    "b=list(a)\n",
    "print(b)"
   ]
  },
  {
   "cell_type": "code",
   "execution_count": 13,
   "id": "8102cc9c-7371-4336-832c-9b81d96ad797",
   "metadata": {},
   "outputs": [
    {
     "name": "stdout",
     "output_type": "stream",
     "text": [
      "range(0, 10)\n"
     ]
    }
   ],
   "source": [
    "a=range(10)\n",
    "print(a)"
   ]
  },
  {
   "cell_type": "code",
   "execution_count": 15,
   "id": "5bfc4cac-98e0-4f67-b6ec-4d809a0d5c0b",
   "metadata": {},
   "outputs": [
    {
     "name": "stdout",
     "output_type": "stream",
     "text": [
      "[0, 2, 4, 6, 8, 10, 12, 14, 16, 18]\n"
     ]
    }
   ],
   "source": [
    "a=range(0,20,2)\n",
    "b=list(a)\n",
    "print(b)"
   ]
  },
  {
   "cell_type": "code",
   "execution_count": 16,
   "id": "e900880c-cb92-41bb-a7ed-5e8c7eb875c2",
   "metadata": {},
   "outputs": [
    {
     "name": "stdout",
     "output_type": "stream",
     "text": [
      "[5, 7, 9, 11, 13]\n"
     ]
    }
   ],
   "source": [
    "my_list=list(range(5,15,2))\n",
    "print(my_list)"
   ]
  },
  {
   "cell_type": "markdown",
   "id": "e12d0c99-2c79-48d3-961d-9c32c8ec32cd",
   "metadata": {},
   "source": [
    "To create user define function in python:\n",
    "\n",
    " use def keyword followed by function name and ends with ':'\n",
    "\n",
    " Can we have function with default values:yes\n",
    "\n",
    " can we have function with return parameter:yes"
   ]
  },
  {
   "cell_type": "code",
   "execution_count": 28,
   "id": "cdf66240-7dbc-489d-868a-7f2f6e3f6dd2",
   "metadata": {},
   "outputs": [
    {
     "name": "stdout",
     "output_type": "stream",
     "text": [
      "8\n"
     ]
    }
   ],
   "source": [
    "def add_numbers(a,b):\n",
    "    result=a+b\n",
    "    return result\n",
    "result2 = add_numbers(5,3)\n",
    "print(result2)\n",
    "    \n",
    "    "
   ]
  },
  {
   "cell_type": "code",
   "execution_count": 27,
   "id": "6e8c18fe-b112-4d46-8d51-f4dc15d5ef08",
   "metadata": {},
   "outputs": [
    {
     "name": "stdout",
     "output_type": "stream",
     "text": [
      "Addition of two numbers: 9\n"
     ]
    }
   ],
   "source": [
    "def add_numbers(a,b):\n",
    "    return a+b\n",
    "add=add_numbers(3,6)\n",
    "print(f\"Addition of two numbers: {add}\")"
   ]
  },
  {
   "cell_type": "code",
   "execution_count": 34,
   "id": "276c8a4f-dcfc-4546-93a5-aeaae69dea72",
   "metadata": {},
   "outputs": [
    {
     "name": "stdout",
     "output_type": "stream",
     "text": [
      "sum of 1,2,3,4: 10\n",
      "sum of 2,5,6,9,10: 32\n"
     ]
    }
   ],
   "source": [
    "#fun with arg\n",
    "def calculate_sum(*args):\n",
    "    total=sum(args)\n",
    "    return total\n",
    "print(\"sum of 1,2,3,4:\", calculate_sum(1,2,3,4))\n",
    "print(\"sum of 2,5,6,9,10:\", calculate_sum(2,5,6,9,10))"
   ]
  },
  {
   "cell_type": "code",
   "execution_count": 37,
   "id": "70a5d692-413e-4245-9900-4d7a3c86dec6",
   "metadata": {},
   "outputs": [
    {
     "name": "stdout",
     "output_type": "stream",
     "text": [
      "Sum of numbers:10\n"
     ]
    }
   ],
   "source": [
    "def calculate_sum(*args):\n",
    "    total=sum(args)\n",
    "    return total\n",
    "cal=calculate_sum(1,2,3,4)\n",
    "print(f\"Sum of numbers:{cal}\")"
   ]
  },
  {
   "cell_type": "markdown",
   "id": "956334e2-63f6-44c5-83e2-d75c7eceefbd",
   "metadata": {},
   "source": [
    "Lambda function:\n",
    "\n",
    "A Lambda function is an anonymous function,often referred as\n",
    "1) Lambda expression\n",
    "2) lambda function\n",
    "3) lambda form\n",
    "   syntax: lambda arguments:expression\n"
   ]
  },
  {
   "cell_type": "code",
   "execution_count": 39,
   "id": "cc5f3eee-eed0-4961-920d-e75b392f672b",
   "metadata": {},
   "outputs": [
    {
     "name": "stdout",
     "output_type": "stream",
     "text": [
      "6\n"
     ]
    }
   ],
   "source": [
    "#demo for lambda function\n",
    "#add two numbers using lambda function\n",
    "add=lambda x,y:x+y\n",
    "result=add(2,4)\n",
    "print(result)\n"
   ]
  },
  {
   "cell_type": "code",
   "execution_count": 42,
   "id": "ce74e22d-6faf-40a2-93d2-f1f2a8ca7951",
   "metadata": {},
   "outputs": [
    {
     "name": "stdout",
     "output_type": "stream",
     "text": [
      "True\n"
     ]
    }
   ],
   "source": [
    "# palindrome\n",
    "is_palindrome = lambda s: s==s[::-1]\n",
    "print(is_palindrome(\"radar\"))"
   ]
  },
  {
   "cell_type": "code",
   "execution_count": 43,
   "id": "5a5f273b-1d9d-43f4-86f1-23efaff05c10",
   "metadata": {},
   "outputs": [
    {
     "name": "stdout",
     "output_type": "stream",
     "text": [
      "False\n"
     ]
    }
   ],
   "source": [
    "is_palindrome = lambda s: s==s[::-1]\n",
    "print(is_palindrome(\"amul\"))"
   ]
  },
  {
   "cell_type": "code",
   "execution_count": null,
   "id": "18b77c5f-e637-4857-8380-caac12925e36",
   "metadata": {},
   "outputs": [],
   "source": []
  }
 ],
 "metadata": {
  "kernelspec": {
   "display_name": "Python 3 (ipykernel)",
   "language": "python",
   "name": "python3"
  },
  "language_info": {
   "codemirror_mode": {
    "name": "ipython",
    "version": 3
   },
   "file_extension": ".py",
   "mimetype": "text/x-python",
   "name": "python",
   "nbconvert_exporter": "python",
   "pygments_lexer": "ipython3",
   "version": "3.12.7"
  }
 },
 "nbformat": 4,
 "nbformat_minor": 5
}
